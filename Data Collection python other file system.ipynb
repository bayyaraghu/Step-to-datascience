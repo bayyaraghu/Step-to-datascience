{
 "cells": [
  {
   "cell_type": "code",
   "execution_count": 2,
   "metadata": {},
   "outputs": [],
   "source": [
    "# import data\n",
    "# flat file eg . txts, csvs\n",
    "# files from other software\n",
    "# relational database\n"
   ]
  },
  {
   "cell_type": "code",
   "execution_count": 8,
   "metadata": {},
   "outputs": [
    {
     "name": "stdout",
     "output_type": "stream",
     "text": [
      "this is to informa about all the event and action,\n",
      "which are taking place in python progrmming. \n",
      "\n"
     ]
    }
   ],
   "source": [
    "file = 'doc.txt'\n",
    "fileopen = open(file, mode = 'r') # 'r' read the file \n",
    "text = fileopen.read()\n",
    "print(text)\n",
    "fileopen.close()"
   ]
  },
  {
   "cell_type": "code",
   "execution_count": 16,
   "metadata": {},
   "outputs": [],
   "source": [
    "file1 = 'doc.txt'\n",
    "fileopen1 = open(file1, mode = 'w') # 'r' write into file\n",
    "fileopen1.close()"
   ]
  },
  {
   "cell_type": "code",
   "execution_count": 17,
   "metadata": {},
   "outputs": [
    {
     "name": "stdout",
     "output_type": "stream",
     "text": [
      "\n"
     ]
    }
   ],
   "source": [
    "# context manager with\n",
    "with open('doc.txt', 'r') as file:\n",
    "    print(file.read())"
   ]
  },
  {
   "cell_type": "code",
   "execution_count": 15,
   "metadata": {},
   "outputs": [
    {
     "name": "stdout",
     "output_type": "stream",
     "text": [
      "['1913012\\t19101\\t50.00\\t53.00' '1913013\\t19101\\t52.00\\t51.00'\n",
      " '1913021\\t19101\\t51.00\\t48.00' '1913023\\t19101\\t53.00\\t53.00'\n",
      " '1913024\\t19101\\t50.00\\t52.00' '1913521\\t19101\\t30.00\\t0.00'\n",
      " '1895173\\t19101\\t48.00\\t50.00' '1895169\\t19101\\t48.00\\t53.00'\n",
      " '1913040\\t19101\\t50.00\\t53.00' '1913041\\t19101\\t40.00\\t48.00'\n",
      " '1913046\\t19101\\t50.00\\t56.00' '1913044\\t19101\\t45.00\\t48.00'\n",
      " '1913084\\t19101\\t56.00\\t58.00' '1913048\\t19101\\t48.00\\t56.00'\n",
      " '1913052\\t19101\\t56.00\\t58.00' '1913054\\t19101\\t51.00\\t55.00'\n",
      " '1913060\\t19101\\t51.00\\t56.00' '1913097\\t19101\\t52.00\\t56.00'\n",
      " '1913502\\t19101\\t48.00\\t53.00' '1895119\\t19101\\t56.00\\t60.00'\n",
      " '1913069\\t19101\\t48.00\\t53.00' '1913093\\t19101\\t50.00\\t56.00'\n",
      " '1913463\\t19101\\t35.00\\t43.00' '1913083\\t19101\\t58.00\\t62.00'\n",
      " '1913067\\t19101\\t40.00\\t48.00' '1913088\\t19101\\t52.00\\t58.00'\n",
      " '1913503\\t19101\\t53.00\\t56.00' '1913544\\t19101\\t36.00\\t46.00'\n",
      " '1913091\\t19101\\t50.00\\t57.00' '1913061\\t19101\\t58.00\\t61.00'\n",
      " '1913431\\t19101\\t30.00\\t0.00' '1824345\\t19101\\t15.00\\t35.00'\n",
      " '1913479\\t19101\\t40.00\\t45.00']\n"
     ]
    }
   ],
   "source": [
    "# how do you import flat file, with two main packages : numpy and pandas\n",
    "\n",
    "# importing flat file using numpy\n",
    "\n",
    "# customizing your numpy import\n",
    "import numpy as np\n",
    "\n",
    "deliv = 'deliverable.txt'\n",
    "data = np.loadtxt(deliv, delimiter=',', skiprows = 1, dtype=str)\n",
    "print(data)"
   ]
  },
  {
   "cell_type": "code",
   "execution_count": 25,
   "metadata": {},
   "outputs": [
    {
     "data": {
      "text/html": [
       "<div>\n",
       "<style scoped>\n",
       "    .dataframe tbody tr th:only-of-type {\n",
       "        vertical-align: middle;\n",
       "    }\n",
       "\n",
       "    .dataframe tbody tr th {\n",
       "        vertical-align: top;\n",
       "    }\n",
       "\n",
       "    .dataframe thead th {\n",
       "        text-align: right;\n",
       "    }\n",
       "</style>\n",
       "<table border=\"1\" class=\"dataframe\">\n",
       "  <thead>\n",
       "    <tr style=\"text-align: right;\">\n",
       "      <th></th>\n",
       "      <th>CountryName</th>\n",
       "      <th>CountryCode</th>\n",
       "      <th>Year</th>\n",
       "      <th>Total Population</th>\n",
       "      <th>Urban population (% of total)</th>\n",
       "    </tr>\n",
       "  </thead>\n",
       "  <tbody>\n",
       "    <tr>\n",
       "      <td>0</td>\n",
       "      <td>Arab World</td>\n",
       "      <td>ARB</td>\n",
       "      <td>1960</td>\n",
       "      <td>9.249590e+07</td>\n",
       "      <td>31.285384</td>\n",
       "    </tr>\n",
       "    <tr>\n",
       "      <td>1</td>\n",
       "      <td>Caribbean small states</td>\n",
       "      <td>CSS</td>\n",
       "      <td>1960</td>\n",
       "      <td>4.190810e+06</td>\n",
       "      <td>31.597490</td>\n",
       "    </tr>\n",
       "    <tr>\n",
       "      <td>2</td>\n",
       "      <td>Central Europe and the Baltics</td>\n",
       "      <td>CEB</td>\n",
       "      <td>1960</td>\n",
       "      <td>9.140158e+07</td>\n",
       "      <td>44.507921</td>\n",
       "    </tr>\n",
       "    <tr>\n",
       "      <td>3</td>\n",
       "      <td>East Asia &amp; Pacific (all income levels)</td>\n",
       "      <td>EAS</td>\n",
       "      <td>1960</td>\n",
       "      <td>1.042475e+09</td>\n",
       "      <td>22.471132</td>\n",
       "    </tr>\n",
       "    <tr>\n",
       "      <td>4</td>\n",
       "      <td>East Asia &amp; Pacific (developing only)</td>\n",
       "      <td>EAP</td>\n",
       "      <td>1960</td>\n",
       "      <td>8.964930e+08</td>\n",
       "      <td>16.917679</td>\n",
       "    </tr>\n",
       "  </tbody>\n",
       "</table>\n",
       "</div>"
      ],
      "text/plain": [
       "                               CountryName CountryCode  Year  \\\n",
       "0                               Arab World         ARB  1960   \n",
       "1                   Caribbean small states         CSS  1960   \n",
       "2           Central Europe and the Baltics         CEB  1960   \n",
       "3  East Asia & Pacific (all income levels)         EAS  1960   \n",
       "4    East Asia & Pacific (developing only)         EAP  1960   \n",
       "\n",
       "   Total Population  Urban population (% of total)  \n",
       "0      9.249590e+07                      31.285384  \n",
       "1      4.190810e+06                      31.597490  \n",
       "2      9.140158e+07                      44.507921  \n",
       "3      1.042475e+09                      22.471132  \n",
       "4      8.964930e+08                      16.917679  "
      ]
     },
     "execution_count": 25,
     "metadata": {},
     "output_type": "execute_result"
    }
   ],
   "source": [
    "# importing flat file using pandas\n",
    "\n",
    "import pandas as pd\n",
    "\n",
    "world = 'world_ind_pop_data.csv'\n",
    "\n",
    "data = pd.read_csv(world)\n",
    "\n",
    "data.head()"
   ]
  },
  {
   "cell_type": "code",
   "execution_count": 2,
   "metadata": {},
   "outputs": [
    {
     "ename": "FileNotFoundError",
     "evalue": "[Errno 2] No such file or directory: 'pickled_fruit.pkl'",
     "output_type": "error",
     "traceback": [
      "\u001b[1;31m---------------------------------------------------------------------------\u001b[0m",
      "\u001b[1;31mFileNotFoundError\u001b[0m                         Traceback (most recent call last)",
      "\u001b[1;32m<ipython-input-2-5fd142e4e550>\u001b[0m in \u001b[0;36m<module>\u001b[1;34m\u001b[0m\n\u001b[0;32m      4\u001b[0m \u001b[1;32mimport\u001b[0m \u001b[0mpickle\u001b[0m\u001b[1;33m\u001b[0m\u001b[1;33m\u001b[0m\u001b[0m\n\u001b[0;32m      5\u001b[0m \u001b[1;33m\u001b[0m\u001b[0m\n\u001b[1;32m----> 6\u001b[1;33m \u001b[1;32mwith\u001b[0m \u001b[0mopen\u001b[0m\u001b[1;33m(\u001b[0m\u001b[1;34m'pickled_fruit.pkl'\u001b[0m\u001b[1;33m,\u001b[0m \u001b[1;34m'rb'\u001b[0m\u001b[1;33m)\u001b[0m \u001b[1;32mas\u001b[0m \u001b[0mfile\u001b[0m\u001b[1;33m:\u001b[0m\u001b[1;33m\u001b[0m\u001b[1;33m\u001b[0m\u001b[0m\n\u001b[0m\u001b[0;32m      7\u001b[0m     \u001b[0mdata\u001b[0m \u001b[1;33m=\u001b[0m  \u001b[0mpickle\u001b[0m\u001b[1;33m.\u001b[0m\u001b[0mload\u001b[0m\u001b[1;33m(\u001b[0m\u001b[0mfile\u001b[0m\u001b[1;33m)\u001b[0m\u001b[1;33m\u001b[0m\u001b[1;33m\u001b[0m\u001b[0m\n\u001b[0;32m      8\u001b[0m \u001b[1;33m\u001b[0m\u001b[0m\n",
      "\u001b[1;31mFileNotFoundError\u001b[0m: [Errno 2] No such file or directory: 'pickled_fruit.pkl'"
     ]
    }
   ],
   "source": [
    "# other file types\n",
    "# Excel spreadsheets, MATLAB files, SAS files, State files, HDF5 files.\n",
    "\n",
    "import pickle\n",
    "\n",
    "with open('pickled_fruit.pkl', 'rb') as file:\n",
    "    data =  pickle.load(file)\n",
    "    \n",
    "print(data)"
   ]
  },
  {
   "cell_type": "code",
   "execution_count": 16,
   "metadata": {},
   "outputs": [
    {
     "name": "stdout",
     "output_type": "stream",
     "text": [
      "     Std No  Section  D1  D2\n",
      "0   1913012    19101  50  53\n",
      "1   1913013    19101  52  51\n",
      "2   1913021    19101  51  48\n",
      "3   1913023    19101  53  53\n",
      "4   1913024    19101  50  52\n",
      "5   1913521    19101  30   0\n",
      "6   1895173    19101  48  50\n",
      "7   1895169    19101  48  53\n",
      "8   1913040    19101  50  53\n",
      "9   1913041    19101  40  48\n",
      "10  1913046    19101  50  56\n",
      "11  1913044    19101  45  48\n",
      "12  1913084    19101  56  58\n",
      "13  1913048    19101  48  56\n",
      "14  1913052    19101  56  58\n",
      "15  1913054    19101  51  55\n",
      "16  1913060    19101  51  56\n",
      "17  1913097    19101  52  56\n",
      "18  1913502    19101  48  53\n",
      "19  1895119    19101  56  60\n",
      "20  1913069    19101  48  53\n",
      "21  1913093    19101  50  56\n",
      "22  1913463    19101  35  43\n",
      "23  1913083    19101  58  62\n",
      "24  1913067    19101  40  48\n",
      "25  1913088    19101  52  58\n",
      "26  1913503    19101  53  56\n",
      "27  1913544    19101  36  46\n",
      "28  1913091    19101  50  57\n",
      "29  1913061    19101  58  61\n",
      "30  1913431    19101  30   0\n",
      "31  1824345    19101  15  35\n",
      "32  1913479    19101  40  45\n"
     ]
    }
   ],
   "source": [
    "# importing excel spreadsheets\n",
    "\n",
    "import pandas as pd\n",
    "file = 'deliverable.xlsx'\n",
    "data = pd.ExcelFile(file)\n",
    "print(data.parse('marks')) # an act or the result obtained by parsing a string or a text"
   ]
  },
  {
   "cell_type": "code",
   "execution_count": 19,
   "metadata": {},
   "outputs": [
    {
     "ename": "ModuleNotFoundError",
     "evalue": "No module named 'sas7bdat'",
     "output_type": "error",
     "traceback": [
      "\u001b[1;31m---------------------------------------------------------------------------\u001b[0m",
      "\u001b[1;31mModuleNotFoundError\u001b[0m                       Traceback (most recent call last)",
      "\u001b[1;32m<ipython-input-19-9a7f8147ba01>\u001b[0m in \u001b[0;36m<module>\u001b[1;34m\u001b[0m\n\u001b[0;32m      5\u001b[0m \u001b[1;32mimport\u001b[0m \u001b[0mpandas\u001b[0m \u001b[1;32mas\u001b[0m \u001b[0mpd\u001b[0m\u001b[1;33m\u001b[0m\u001b[1;33m\u001b[0m\u001b[0m\n\u001b[0;32m      6\u001b[0m \u001b[1;33m\u001b[0m\u001b[0m\n\u001b[1;32m----> 7\u001b[1;33m \u001b[1;32mfrom\u001b[0m \u001b[0msas7bdat\u001b[0m \u001b[1;32mimport\u001b[0m \u001b[0mSAS7BDAT\u001b[0m\u001b[1;33m\u001b[0m\u001b[1;33m\u001b[0m\u001b[0m\n\u001b[0m\u001b[0;32m      8\u001b[0m \u001b[1;33m\u001b[0m\u001b[0m\n\u001b[0;32m      9\u001b[0m \u001b[1;32mwith\u001b[0m \u001b[0mSAS7BDAT\u001b[0m\u001b[1;33m(\u001b[0m\u001b[1;34m'sales.sas7bdat'\u001b[0m\u001b[1;33m)\u001b[0m \u001b[1;32mas\u001b[0m \u001b[0mfile\u001b[0m\u001b[1;33m:\u001b[0m\u001b[1;33m\u001b[0m\u001b[1;33m\u001b[0m\u001b[0m\n",
      "\u001b[1;31mModuleNotFoundError\u001b[0m: No module named 'sas7bdat'"
     ]
    }
   ],
   "source": [
    "# import SAS/stata files using pandas\n",
    "# SAS : Statistical analysis system\n",
    "# stata : \"Statistics\" + \"data\"\n",
    "\n",
    "import pandas as pd\n",
    "\n",
    "from sas7bdat import SAS7BDAT\n",
    "\n",
    "with SAS7BDAT('sales.sas7bdat') as file:\n",
    "    df_sas = file.to_data_frame()\n"
   ]
  },
  {
   "cell_type": "code",
   "execution_count": 21,
   "metadata": {},
   "outputs": [
    {
     "name": "stdout",
     "output_type": "stream",
     "text": [
      "        e   t   x     y\n",
      "0     0.0   1  12  3900\n",
      "1    44.0   7  10  4020\n",
      "2     5.0  30  12  4290\n",
      "3     6.2   7   8  4380\n",
      "4     7.5   6   8  4380\n",
      "..    ...  ..  ..   ...\n",
      "88  215.5  16  15  6600\n",
      "89   41.5   7  15  6840\n",
      "90  175.0  10  12  6900\n",
      "91  132.0  24  15  6900\n",
      "92   54.5  33  16  8100\n",
      "\n",
      "[93 rows x 4 columns]\n"
     ]
    }
   ],
   "source": [
    "import pandas as pd\n",
    "data = pd.read_stata('salary.dta')\n",
    "print(data)"
   ]
  },
  {
   "cell_type": "code",
   "execution_count": 22,
   "metadata": {},
   "outputs": [
    {
     "ename": "NameError",
     "evalue": "name 'filename' is not defined",
     "output_type": "error",
     "traceback": [
      "\u001b[1;31m---------------------------------------------------------------------------\u001b[0m",
      "\u001b[1;31mNameError\u001b[0m                                 Traceback (most recent call last)",
      "\u001b[1;32m<ipython-input-22-a6cbb526feba>\u001b[0m in \u001b[0;36m<module>\u001b[1;34m\u001b[0m\n\u001b[0;32m      4\u001b[0m \u001b[0mfile_name\u001b[0m \u001b[1;33m=\u001b[0m \u001b[1;34m'data.hdf5'\u001b[0m\u001b[1;33m\u001b[0m\u001b[1;33m\u001b[0m\u001b[0m\n\u001b[0;32m      5\u001b[0m \u001b[1;33m\u001b[0m\u001b[0m\n\u001b[1;32m----> 6\u001b[1;33m \u001b[0mdata\u001b[0m \u001b[1;33m=\u001b[0m \u001b[0mh5py\u001b[0m\u001b[1;33m.\u001b[0m\u001b[0mFile\u001b[0m\u001b[1;33m(\u001b[0m\u001b[0mfilename\u001b[0m\u001b[1;33m,\u001b[0m \u001b[1;34m'r'\u001b[0m\u001b[1;33m)\u001b[0m \u001b[1;31m# 'r' is to read\u001b[0m\u001b[1;33m\u001b[0m\u001b[1;33m\u001b[0m\u001b[0m\n\u001b[0m\u001b[0;32m      7\u001b[0m \u001b[1;33m\u001b[0m\u001b[0m\n\u001b[0;32m      8\u001b[0m \u001b[0mprint\u001b[0m\u001b[1;33m(\u001b[0m\u001b[0mtype\u001b[0m\u001b[1;33m(\u001b[0m\u001b[0mdata\u001b[0m\u001b[1;33m)\u001b[0m\u001b[1;33m)\u001b[0m\u001b[1;33m\u001b[0m\u001b[1;33m\u001b[0m\u001b[0m\n",
      "\u001b[1;31mNameError\u001b[0m: name 'filename' is not defined"
     ]
    }
   ],
   "source": [
    "# importing HDF5 files, to install in anaconda terminal type pip install h5py\n",
    "import h5py\n",
    "\n",
    "file_name = 'data.hdf5'\n",
    "\n",
    "data = h5py.File(filename, 'r') # 'r' is to read\n",
    "\n",
    "print(type(data))\n",
    "\n",
    "# The structure of HDF5 files\n",
    "for key in data.kays():\n",
    "    print(key)"
   ]
  },
  {
   "cell_type": "code",
   "execution_count": null,
   "metadata": {},
   "outputs": [],
   "source": [
    "# importing a .mat file\n",
    "\n",
    "import scipy.io\n",
    "filename = 'workspace.mat'\n",
    "mat = scipy.io.loadmat(filename)\n",
    "print(type(mat))\n",
    "print(type(mat['x']))"
   ]
  },
  {
   "cell_type": "code",
   "execution_count": null,
   "metadata": {},
   "outputs": [],
   "source": []
  }
 ],
 "metadata": {
  "kernelspec": {
   "display_name": "Python 3",
   "language": "python",
   "name": "python3"
  },
  "language_info": {
   "codemirror_mode": {
    "name": "ipython",
    "version": 3
   },
   "file_extension": ".py",
   "mimetype": "text/x-python",
   "name": "python",
   "nbconvert_exporter": "python",
   "pygments_lexer": "ipython3",
   "version": "3.7.4"
  }
 },
 "nbformat": 4,
 "nbformat_minor": 2
}
