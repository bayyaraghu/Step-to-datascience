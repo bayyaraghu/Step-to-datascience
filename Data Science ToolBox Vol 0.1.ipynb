{
 "cells": [
  {
   "cell_type": "code",
   "execution_count": 3,
   "metadata": {},
   "outputs": [],
   "source": [
    "# User Define Function \n",
    "# Define function without parameter\n",
    "# Define function with one parameter\n",
    "# Define function that returns a value\n",
    "# multiple arguments and multiple return values"
   ]
  },
  {
   "cell_type": "code",
   "execution_count": 4,
   "metadata": {},
   "outputs": [
    {
     "name": "stdout",
     "output_type": "stream",
     "text": [
      "5\n"
     ]
    }
   ],
   "source": [
    "# Built in function \n",
    "x = str(5)\n",
    "print(x)"
   ]
  },
  {
   "cell_type": "code",
   "execution_count": 6,
   "metadata": {},
   "outputs": [
    {
     "name": "stdout",
     "output_type": "stream",
     "text": [
      "8\n"
     ]
    }
   ],
   "source": [
    "# Defina a function\n",
    "def square():\n",
    "    value = 4 * 2\n",
    "    print(value)\n",
    "square()"
   ]
  },
  {
   "cell_type": "code",
   "execution_count": 18,
   "metadata": {},
   "outputs": [
    {
     "name": "stdout",
     "output_type": "stream",
     "text": [
      "8\n",
      "6\n",
      "2\n"
     ]
    }
   ],
   "source": [
    "# more example \n",
    "def arithmatic():\n",
    "    value1 = 4 * 2\n",
    "    value2 = 4 + 2\n",
    "    value3 = 4 - 2\n",
    "    print(value1)\n",
    "    print(value2)\n",
    "    print(value3)\n",
    "arithmatic()"
   ]
  },
  {
   "cell_type": "code",
   "execution_count": 7,
   "metadata": {},
   "outputs": [
    {
     "name": "stdout",
     "output_type": "stream",
     "text": [
      "16\n"
     ]
    }
   ],
   "source": [
    "# return a value from a function using return\n",
    "def square(value):\n",
    "    get_value = value ** 2\n",
    "    return get_value\n",
    "num = square(4)\n",
    "print(num)"
   ]
  },
  {
   "cell_type": "code",
   "execution_count": 16,
   "metadata": {},
   "outputs": [
    {
     "name": "stdout",
     "output_type": "stream",
     "text": [
      "32\n"
     ]
    }
   ],
   "source": [
    "# multiple function parameters\n",
    "def power(value1, value2):\n",
    "    new_value = value1 ** value2\n",
    "    return new_value\n",
    "result = power(2, 5)\n",
    "print(result)"
   ]
  },
  {
   "cell_type": "code",
   "execution_count": 15,
   "metadata": {},
   "outputs": [
    {
     "name": "stdout",
     "output_type": "stream",
     "text": [
      "(81, 64)\n"
     ]
    }
   ],
   "source": [
    "\n",
    "def raise_both(value1, value2):                     # Function Heading\n",
    "    new_value1 = value1 ** value2\n",
    "    new_value2 = value2 ** value1                       # Function Body\n",
    "    new_tuple = (new_value1, new_value2)\n",
    "    return new_tuple\n",
    "result = raise_both(3, 4)\n",
    "print(result)"
   ]
  },
  {
   "cell_type": "code",
   "execution_count": 22,
   "metadata": {},
   "outputs": [
    {
     "name": "stdout",
     "output_type": "stream",
     "text": [
      "John\n"
     ]
    }
   ],
   "source": [
    "#defining funcion to display name of student\n",
    "def studentname(name):\n",
    "    get_name = name\n",
    "    return get_name\n",
    "my = studentname(\"John\")\n",
    "print(my)"
   ]
  },
  {
   "cell_type": "code",
   "execution_count": 23,
   "metadata": {},
   "outputs": [
    {
     "name": "stdout",
     "output_type": "stream",
     "text": [
      "('David', 58)\n"
     ]
    }
   ],
   "source": [
    "def studentdetails(name, marks):\n",
    "    get_name = name\n",
    "    get_marks = marks\n",
    "    return(get_name, get_marks)\n",
    "details = studentdetails(\"David\", 58)\n",
    "print(details)"
   ]
  },
  {
   "cell_type": "code",
   "execution_count": 38,
   "metadata": {},
   "outputs": [
    {
     "data": {
      "text/plain": [
       "16"
      ]
     },
     "execution_count": 38,
     "metadata": {},
     "output_type": "execute_result"
    }
   ],
   "source": [
    "# Global and local scope \n",
    "new_value = 50\n",
    "def passnumer(value):\n",
    "    get_value = value ** 2\n",
    "    return get_value\n",
    "passnumer(4)\n"
   ]
  },
  {
   "cell_type": "code",
   "execution_count": 44,
   "metadata": {},
   "outputs": [
    {
     "data": {
      "text/plain": [
       "<function __main__.new_value(value)>"
      ]
     },
     "execution_count": 44,
     "metadata": {},
     "output_type": "execute_result"
    }
   ],
   "source": [
    "# value from above program\n",
    "new_value\n"
   ]
  },
  {
   "cell_type": "code",
   "execution_count": 45,
   "metadata": {},
   "outputs": [
    {
     "data": {
      "text/plain": [
       "6"
      ]
     },
     "execution_count": 45,
     "metadata": {},
     "output_type": "execute_result"
    }
   ],
   "source": [
    "new_value1 =20\n",
    "def new_value(value):\n",
    "    global new_value1\n",
    "    new_value = value * 2\n",
    "    return new_value\n",
    "new_value(3)\n",
    "\n"
   ]
  },
  {
   "cell_type": "code",
   "execution_count": 49,
   "metadata": {},
   "outputs": [
    {
     "name": "stdout",
     "output_type": "stream",
     "text": [
      "(6, 5, 6)\n"
     ]
    }
   ],
   "source": [
    "# Nested Function\n",
    "def outfunct(x1, x2, x3):\n",
    "    \n",
    "    def innerfunct(x):\n",
    "        return x % 2 + 5\n",
    "    return(innerfunct(x1), innerfunct(x2), innerfunct(x3))\n",
    "\n",
    "print(outfunct(1, 2, 3))"
   ]
  },
  {
   "cell_type": "code",
   "execution_count": 58,
   "metadata": {},
   "outputs": [
    {
     "name": "stdout",
     "output_type": "stream",
     "text": [
      "4 64\n"
     ]
    }
   ],
   "source": [
    "# inner function, return function\n",
    "\n",
    "def raise_val(n):\n",
    "    \n",
    "    def inner(x):\n",
    "        raised = x ** n\n",
    "        return raised\n",
    "    return inner\n",
    "square = raise_val(2)\n",
    "cube = raise_val(3)\n",
    "print(square(2), cube(4))\n",
    "\n",
    "    "
   ]
  },
  {
   "cell_type": "code",
   "execution_count": 64,
   "metadata": {},
   "outputs": [
    {
     "data": {
      "text/plain": [
       "25"
      ]
     },
     "execution_count": 64,
     "metadata": {},
     "output_type": "execute_result"
    }
   ],
   "source": [
    " # add the default argument\n",
    "def power(number, pow=1):\n",
    "    new_value = number ** pow\n",
    "    return new_value\n",
    "power(9, 2)\n"
   ]
  },
  {
   "cell_type": "code",
   "execution_count": null,
   "metadata": {},
   "outputs": [],
   "source": []
  }
 ],
 "metadata": {
  "kernelspec": {
   "display_name": "Python 3",
   "language": "python",
   "name": "python3"
  },
  "language_info": {
   "codemirror_mode": {
    "name": "ipython",
    "version": 3
   },
   "file_extension": ".py",
   "mimetype": "text/x-python",
   "name": "python",
   "nbconvert_exporter": "python",
   "pygments_lexer": "ipython3",
   "version": "3.7.4"
  }
 },
 "nbformat": 4,
 "nbformat_minor": 2
}
