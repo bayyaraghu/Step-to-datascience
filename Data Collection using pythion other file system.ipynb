{
 "cells": [
  {
   "cell_type": "code",
   "execution_count": 2,
   "metadata": {},
   "outputs": [],
   "source": [
    "# import data\n",
    "# flat file eg . txts, csvs\n",
    "# files from other software\n",
    "# relational database\n"
   ]
  },
  {
   "cell_type": "code",
   "execution_count": 8,
   "metadata": {},
   "outputs": [
    {
     "name": "stdout",
     "output_type": "stream",
     "text": [
      "this is to informa about all the event and action,\n",
      "which are taking place in python progrmming. \n",
      "\n"
     ]
    }
   ],
   "source": [
    "file = 'doc.txt'\n",
    "fileopen = open(file, mode = 'r') # 'r' read the file \n",
    "text = fileopen.read()\n",
    "print(text)\n",
    "fileopen.close()"
   ]
  },
  {
   "cell_type": "code",
   "execution_count": 16,
   "metadata": {},
   "outputs": [],
   "source": [
    "file1 = 'doc.txt'\n",
    "fileopen1 = open(file1, mode = 'w') # 'r' write into file\n",
    "fileopen1.close()"
   ]
  },
  {
   "cell_type": "code",
   "execution_count": 17,
   "metadata": {},
   "outputs": [
    {
     "name": "stdout",
     "output_type": "stream",
     "text": [
      "\n"
     ]
    }
   ],
   "source": [
    "# context manager with\n",
    "with open('doc.txt', 'r') as file:\n",
    "    print(file.read())"
   ]
  },
  {
   "cell_type": "code",
   "execution_count": 11,
   "metadata": {},
   "outputs": [
    {
     "name": "stdout",
     "output_type": "stream",
     "text": [
      "['1913012\\t19101\\t50.00\\t53.00' '1913013\\t19101\\t52.00\\t51.00'\n",
      " '1913021\\t19101\\t51.00\\t48.00' '1913023\\t19101\\t53.00\\t53.00'\n",
      " '1913024\\t19101\\t50.00\\t52.00' '1913521\\t19101\\t30.00\\t0.00'\n",
      " '1895173\\t19101\\t48.00\\t50.00' '1895169\\t19101\\t48.00\\t53.00'\n",
      " '1913040\\t19101\\t50.00\\t53.00' '1913041\\t19101\\t40.00\\t48.00'\n",
      " '1913046\\t19101\\t50.00\\t56.00' '1913044\\t19101\\t45.00\\t48.00'\n",
      " '1913084\\t19101\\t56.00\\t58.00' '1913048\\t19101\\t48.00\\t56.00'\n",
      " '1913052\\t19101\\t56.00\\t58.00' '1913054\\t19101\\t51.00\\t55.00'\n",
      " '1913060\\t19101\\t51.00\\t56.00' '1913097\\t19101\\t52.00\\t56.00'\n",
      " '1913502\\t19101\\t48.00\\t53.00' '1895119\\t19101\\t56.00\\t60.00'\n",
      " '1913069\\t19101\\t48.00\\t53.00' '1913093\\t19101\\t50.00\\t56.00'\n",
      " '1913463\\t19101\\t35.00\\t43.00' '1913083\\t19101\\t58.00\\t62.00'\n",
      " '1913067\\t19101\\t40.00\\t48.00' '1913088\\t19101\\t52.00\\t58.00'\n",
      " '1913503\\t19101\\t53.00\\t56.00' '1913544\\t19101\\t36.00\\t46.00'\n",
      " '1913091\\t19101\\t50.00\\t57.00' '1913061\\t19101\\t58.00\\t61.00'\n",
      " '1913431\\t19101\\t30.00\\t0.00' '1824345\\t19101\\t15.00\\t35.00'\n",
      " '1913479\\t19101\\t40.00\\t45.00']\n"
     ]
    }
   ],
   "source": [
    "# how do you import flat file, with two main packages : numpy and pandas\n",
    "\n",
    "# importing flat file using numpy\n",
    "\n",
    "# customizing your numpy import\n",
    "import numpy as np\n",
    "\n",
    "deliv = 'deliverable.txt'\n",
    "data = np.loadtxt(deliv, delimiter=',', skiprows = 1, dtype=str)\n",
    "print(data)"
   ]
  },
  {
   "cell_type": "code",
   "execution_count": null,
   "metadata": {},
   "outputs": [],
   "source": [
    "# importing flat file using pandas\n"
   ]
  },
  {
   "cell_type": "code",
   "execution_count": null,
   "metadata": {},
   "outputs": [],
   "source": []
  }
 ],
 "metadata": {
  "kernelspec": {
   "display_name": "Python 3",
   "language": "python",
   "name": "python3"
  },
  "language_info": {
   "codemirror_mode": {
    "name": "ipython",
    "version": 3
   },
   "file_extension": ".py",
   "mimetype": "text/x-python",
   "name": "python",
   "nbconvert_exporter": "python",
   "pygments_lexer": "ipython3",
   "version": "3.7.4"
  }
 },
 "nbformat": 4,
 "nbformat_minor": 2
}
