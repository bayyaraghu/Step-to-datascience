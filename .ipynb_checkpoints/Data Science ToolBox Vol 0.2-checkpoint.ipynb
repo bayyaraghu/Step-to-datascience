{
 "cells": [
  {
   "cell_type": "code",
   "execution_count": 1,
   "metadata": {},
   "outputs": [],
   "source": [
    "# Iterators in pythonland \n",
    "# Iterating with for loop\n"
   ]
  },
  {
   "cell_type": "code",
   "execution_count": 6,
   "metadata": {},
   "outputs": [
    {
     "name": "stdout",
     "output_type": "stream",
     "text": [
      "rajesh\n",
      "john\n",
      "suresh\n"
     ]
    }
   ],
   "source": [
    "# we can iterate ovea a list using for loop\n",
    "name = ['rajesh', 'john', 'suresh']\n",
    "for students in name:\n",
    "    print(students)"
   ]
  },
  {
   "cell_type": "code",
   "execution_count": 10,
   "metadata": {},
   "outputs": [
    {
     "name": "stdout",
     "output_type": "stream",
     "text": [
      "Suresh rana\n",
      "John smith\n"
     ]
    }
   ],
   "source": [
    "# iterating over dictionaries\n",
    "\n",
    "name = {'Suresh':'rana', 'John': 'smith'}\n",
    "\n",
    "for key, value in name.items():\n",
    "    print(key, value)\n",
    "    "
   ]
  },
  {
   "cell_type": "code",
   "execution_count": 13,
   "metadata": {},
   "outputs": [
    {
     "name": "stdout",
     "output_type": "stream",
     "text": [
      "this is to informa about all the event and action,\n",
      "\n",
      "which are taking place in python progrmming. \n",
      "\n"
     ]
    }
   ],
   "source": [
    "# iterating over file connection\n",
    "\n",
    "file = open('doc.txt')\n",
    "it = iter(file)\n",
    "print(next(it))\n",
    "print(next(it))"
   ]
  },
  {
   "cell_type": "code",
   "execution_count": 18,
   "metadata": {},
   "outputs": [
    {
     "name": "stdout",
     "output_type": "stream",
     "text": [
      "<class 'enumerate'>\n",
      "[(0, 'ironman'), (1, 'batman'), (2, 'superman'), (3, 'hitman')]\n"
     ]
    }
   ],
   "source": [
    "# using enumerate()\n",
    "moveslist = ['ironman', 'batman', 'superman', 'hitman']\n",
    "\n",
    "moves = enumerate(moveslist)\n",
    "\n",
    "print(type(moves))\n",
    "\n",
    "m_list = list(moves)\n",
    "print(m_list)"
   ]
  },
  {
   "cell_type": "code",
   "execution_count": 19,
   "metadata": {},
   "outputs": [
    {
     "name": "stdout",
     "output_type": "stream",
     "text": [
      "0 ironman\n",
      "1 batman\n",
      "2 superman\n",
      "3 hitman\n"
     ]
    }
   ],
   "source": [
    "# enumerate() and unpack\n",
    "movielist = [\"ironman\", \"batman\", \"superman\", \"hitman\"]\n",
    "\n",
    "for index, value in enumerate(movielist):\n",
    "    print(index, value)"
   ]
  },
  {
   "cell_type": "code",
   "execution_count": null,
   "metadata": {},
   "outputs": [],
   "source": [
    "# combine two different list using zip()\n"
   ]
  }
 ],
 "metadata": {
  "kernelspec": {
   "display_name": "Python 3",
   "language": "python",
   "name": "python3"
  },
  "language_info": {
   "codemirror_mode": {
    "name": "ipython",
    "version": 3
   },
   "file_extension": ".py",
   "mimetype": "text/x-python",
   "name": "python",
   "nbconvert_exporter": "python",
   "pygments_lexer": "ipython3",
   "version": "3.7.4"
  }
 },
 "nbformat": 4,
 "nbformat_minor": 2
}
