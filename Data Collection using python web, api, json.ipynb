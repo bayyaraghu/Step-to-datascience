{
 "cells": [
  {
   "cell_type": "code",
   "execution_count": 19,
   "metadata": {},
   "outputs": [],
   "source": [
    "# importing flat file from web, the urllib package\n",
    "\n",
    "from urllib.request import urlopen, Request\n",
    "url = \"https://www.wikipedia.org/\"\n",
    "request = Request(url)\n",
    "response = urlopen(request)\n",
    "html = response.read()\n",
    "# print(html)\n",
    "response.close()\n"
   ]
  },
  {
   "cell_type": "code",
   "execution_count": 17,
   "metadata": {},
   "outputs": [],
   "source": [
    "import requests\n",
    "\n",
    "url = \"https://www.wikipedia.org/\"\n",
    "r = requests.get(url)\n",
    "text = r.text\n",
    " # print(text)"
   ]
  },
  {
   "cell_type": "code",
   "execution_count": 18,
   "metadata": {},
   "outputs": [
    {
     "name": "stdout",
     "output_type": "stream",
     "text": [
      "<html>\n",
      " <head>\n",
      "  <title>\n",
      "   Smells Like Error 404\n",
      "  </title>\n",
      " </head>\n",
      " <body>\n",
      "  <blockquote>\n",
      "   A browsing Victorian chap\n",
      "   <br/>\n",
      "   Encountered a server mishap.\n",
      "   <br/>\n",
      "   The page was no more:\n",
      "   <br/>\n",
      "   \"Alas! Four-oh-four!\"\n",
      "   <br/>\n",
      "   Enough with this limerick crap.\n",
      "  </blockquote>\n",
      "  <a href=\"/\">\n",
      "   Crummy\n",
      "  </a>\n",
      " </body>\n",
      "</html>\n",
      "\n",
      "<title>Smells Like Error 404</title>\n",
      "\n",
      "\n",
      "Smells Like Error 404\n",
      "\n",
      "\n",
      "\n",
      "A browsing Victorian chap\n",
      "Encountered a server mishap.\n",
      "The page was no more:\n",
      "\"Alas! Four-oh-four!\"\n",
      "Enough with this limerick crap.\n",
      "\n",
      "Crummy\n",
      "\n",
      "\n",
      "\n",
      "/\n"
     ]
    }
   ],
   "source": [
    "from  bs4 import BeautifulSoup\n",
    "import requests\n",
    "url = 'https://www.crummy.com/softeare/BeautifulSoup/'\n",
    "r = requests.get(url)\n",
    "html_doc = r.text\n",
    "soup = BeautifulSoup(html_doc)\n",
    "print(soup.prettify())\n",
    "print(soup.title)\n",
    "print(soup.get_text())\n",
    "for link in soup.find_all('a'):\n",
    "    print(link.get('href'))"
   ]
  },
  {
   "cell_type": "code",
   "execution_count": 26,
   "metadata": {},
   "outputs": [
    {
     "name": "stdout",
     "output_type": "stream",
     "text": [
      "{'quiz': {'sport': {'q1': {'question': 'Which one is correct team name in NBA?', 'options': ['New York Bulls', 'Los Angeles Kings', 'Golden State Warriros', 'Huston Rocket'], 'answer': 'Huston Rocket'}}, 'maths': {'q1': {'question': '5 + 7 = ?', 'options': ['10', '11', '12', '13'], 'answer': '12'}, 'q2': {'question': '12 - 8 = ?', 'options': ['1', '2', '3', '4'], 'answer': '4'}}}}\n"
     ]
    }
   ],
   "source": [
    "# to API and Json\n",
    "import json\n",
    "\n",
    "with open('test.json', 'r') as json_file:\n",
    "    json_data = json.load(json_file)\n",
    "type(json_data)\n",
    "print(json_data)\n",
    "\n"
   ]
  },
  {
   "cell_type": "code",
   "execution_count": 29,
   "metadata": {},
   "outputs": [
    {
     "name": "stdout",
     "output_type": "stream",
     "text": [
      "quiz: {'sport': {'q1': {'question': 'Which one is correct team name in NBA?', 'options': ['New York Bulls', 'Los Angeles Kings', 'Golden State Warriros', 'Huston Rocket'], 'answer': 'Huston Rocket'}}, 'maths': {'q1': {'question': '5 + 7 = ?', 'options': ['10', '11', '12', '13'], 'answer': '12'}, 'q2': {'question': '12 - 8 = ?', 'options': ['1', '2', '3', '4'], 'answer': '4'}}}\n"
     ]
    }
   ],
   "source": [
    "for key, value in json_data.items():\n",
    "    print(key + \":\", value)"
   ]
  },
  {
   "cell_type": "code",
   "execution_count": 30,
   "metadata": {},
   "outputs": [
    {
     "name": "stdout",
     "output_type": "stream",
     "text": [
      "Response: False\n",
      "Error: No API key provided.\n"
     ]
    }
   ],
   "source": [
    "# connecting to an APi \n",
    "import requests\n",
    "\n",
    "url = 'http://www.omdbapi.com/?t=hackers'\n",
    "\n",
    "r = requests.get(url)\n",
    "\n",
    "json_data = r.json()\n",
    "\n",
    "for key, value in json_data.items():\n",
    "    print(key + ':', value)"
   ]
  },
  {
   "cell_type": "code",
   "execution_count": null,
   "metadata": {},
   "outputs": [],
   "source": []
  }
 ],
 "metadata": {
  "kernelspec": {
   "display_name": "Python 3",
   "language": "python",
   "name": "python3"
  },
  "language_info": {
   "codemirror_mode": {
    "name": "ipython",
    "version": 3
   },
   "file_extension": ".py",
   "mimetype": "text/x-python",
   "name": "python",
   "nbconvert_exporter": "python",
   "pygments_lexer": "ipython3",
   "version": "3.7.4"
  }
 },
 "nbformat": 4,
 "nbformat_minor": 2
}
